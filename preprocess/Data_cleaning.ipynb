{
 "cells": [
  {
   "cell_type": "code",
   "execution_count": 1,
   "id": "caring-pharmacology",
   "metadata": {},
   "outputs": [],
   "source": [
    "import pandas as pd \n"
   ]
  },
  {
   "cell_type": "code",
   "execution_count": 2,
   "id": "level-jumping",
   "metadata": {},
   "outputs": [
    {
     "name": "stdout",
     "output_type": "stream",
     "text": [
      "/Users/rishitdholakia/Desktop\r\n"
     ]
    }
   ],
   "source": [
    "!pwd"
   ]
  },
  {
   "cell_type": "code",
   "execution_count": 3,
   "id": "suspended-member",
   "metadata": {},
   "outputs": [],
   "source": [
    "train_x = pd.read_csv(\"../Downloads/train_x-3.csv\")\n",
    "train_y = pd.read_csv(\"../Downloads/train_y-3.csv\")"
   ]
  },
  {
   "cell_type": "code",
   "execution_count": 26,
   "id": "assigned-attitude",
   "metadata": {},
   "outputs": [
    {
     "data": {
      "text/html": [
       "<div>\n",
       "<style scoped>\n",
       "    .dataframe tbody tr th:only-of-type {\n",
       "        vertical-align: middle;\n",
       "    }\n",
       "\n",
       "    .dataframe tbody tr th {\n",
       "        vertical-align: top;\n",
       "    }\n",
       "\n",
       "    .dataframe thead th {\n",
       "        text-align: right;\n",
       "    }\n",
       "</style>\n",
       "<table border=\"1\" class=\"dataframe\">\n",
       "  <thead>\n",
       "    <tr style=\"text-align: right;\">\n",
       "      <th></th>\n",
       "      <th>word</th>\n",
       "    </tr>\n",
       "  </thead>\n",
       "  <tbody>\n",
       "    <tr>\n",
       "      <th>0</th>\n",
       "      <td>Mas</td>\n",
       "    </tr>\n",
       "    <tr>\n",
       "      <th>1</th>\n",
       "      <td>qual</td>\n",
       "    </tr>\n",
       "    <tr>\n",
       "      <th>2</th>\n",
       "      <td>?</td>\n",
       "    </tr>\n",
       "    <tr>\n",
       "      <th>3</th>\n",
       "      <td>Esta</td>\n",
       "    </tr>\n",
       "    <tr>\n",
       "      <th>4</th>\n",
       "      <td>questão</td>\n",
       "    </tr>\n",
       "    <tr>\n",
       "      <th>...</th>\n",
       "      <td>...</td>\n",
       "    </tr>\n",
       "    <tr>\n",
       "      <th>2315844</th>\n",
       "      <td>30</td>\n",
       "    </tr>\n",
       "    <tr>\n",
       "      <th>2315845</th>\n",
       "      <td>%</td>\n",
       "    </tr>\n",
       "    <tr>\n",
       "      <th>2315846</th>\n",
       "      <td>.</td>\n",
       "    </tr>\n",
       "    <tr>\n",
       "      <th>2315847</th>\n",
       "      <td>-RRB-</td>\n",
       "    </tr>\n",
       "    <tr>\n",
       "      <th>2315848</th>\n",
       "      <td>-DOCSTART-</td>\n",
       "    </tr>\n",
       "  </tbody>\n",
       "</table>\n",
       "<p>2315849 rows × 1 columns</p>\n",
       "</div>"
      ],
      "text/plain": [
       "               word\n",
       "0               Mas\n",
       "1              qual\n",
       "2                 ?\n",
       "3              Esta\n",
       "4           questão\n",
       "...             ...\n",
       "2315844          30\n",
       "2315845           %\n",
       "2315846           .\n",
       "2315847       -RRB-\n",
       "2315848  -DOCSTART-\n",
       "\n",
       "[2315849 rows x 1 columns]"
      ]
     },
     "execution_count": 26,
     "metadata": {},
     "output_type": "execute_result"
    }
   ],
   "source": [
    "train_x"
   ]
  },
  {
   "cell_type": "code",
   "execution_count": 11,
   "id": "integrated-probability",
   "metadata": {},
   "outputs": [],
   "source": [
    "list_train_x = []\n",
    "for i in train_x[\"word\"]:\n",
    "    list_train_x.append(i)\n",
    "train_x_new = set(list_train_x)"
   ]
  },
  {
   "cell_type": "code",
   "execution_count": 19,
   "id": "present-arrest",
   "metadata": {},
   "outputs": [],
   "source": [
    "train_x_new = list(train_x_new)\n"
   ]
  },
  {
   "cell_type": "code",
   "execution_count": 15,
   "id": "average-socket",
   "metadata": {},
   "outputs": [],
   "source": [
    "list_train_y = []\n",
    "for i in train_y[\"tag\"]:\n",
    "    list_train_y.append(i)\n",
    "train_y_new = set(list_train_y)"
   ]
  },
  {
   "cell_type": "code",
   "execution_count": 21,
   "id": "durable-speech",
   "metadata": {},
   "outputs": [],
   "source": [
    "train_y_new = list(train_y_new)"
   ]
  },
  {
   "cell_type": "code",
   "execution_count": 25,
   "id": "certified-creation",
   "metadata": {},
   "outputs": [
    {
     "data": {
      "text/plain": [
       "['versió',\n",
       " 'accedeixi',\n",
       " 'courtroom',\n",
       " 'Batman_del_futuro',\n",
       " 'licenciosos',\n",
       " 'conglomeraat',\n",
       " '28.10',\n",
       " 'Halard',\n",
       " 'PUC\\\\SP',\n",
       " 'parmesano',\n",
       " 'Dioxina',\n",
       " 'पहनने',\n",
       " 'vijanden',\n",
       " 'taronja',\n",
       " 'Serbia',\n",
       " 'capriciousness',\n",
       " 'assaig',\n",
       " '沙粒',\n",
       " 'audiocassettes']"
      ]
     },
     "execution_count": 25,
     "metadata": {},
     "output_type": "execute_result"
    }
   ],
   "source": [
    "train_x_new[1:20]"
   ]
  },
  {
   "cell_type": "code",
   "execution_count": 20,
   "id": "parallel-master",
   "metadata": {},
   "outputs": [],
   "source": [
    "import json\n",
    "with open('vocab.json', 'w', encoding='utf8') as json_file:\n",
    "    json.dump(train_x_new, json_file, ensure_ascii=False)"
   ]
  },
  {
   "cell_type": "code",
   "execution_count": 22,
   "id": "digital-contrast",
   "metadata": {},
   "outputs": [],
   "source": [
    "with open('tags.json', 'w', encoding='utf8') as json_file:\n",
    "    json.dump(train_y_new, json_file, ensure_ascii=False)"
   ]
  },
  {
   "cell_type": "code",
   "execution_count": 41,
   "id": "collective-stress",
   "metadata": {},
   "outputs": [],
   "source": [
    "final_list_words = []\n",
    "sentence_list = []\n",
    "final_list_tags = []\n",
    "tags_list = []\n",
    "for i in range(len(train_x[\"word\"])):\n",
    "    if(train_x[\"word\"][i] == \"-DOCSTART-\"):\n",
    "        final_list_words.append(sentence_list)\n",
    "        final_list_tags.append(tags_list)\n",
    "        sentence_list = []\n",
    "        tags_list = []\n",
    "    elif (isinstance(train_x[\"word\"][i], (int,float))):\n",
    "          continue\n",
    "    else:\n",
    "        sentence_list.append(train_x[\"word\"][i])\n",
    "        tags_list.append(train_y[\"tag\"][i])"
   ]
  },
  {
   "cell_type": "code",
   "execution_count": 45,
   "id": "bibliographic-leadership",
   "metadata": {},
   "outputs": [
    {
     "data": {
      "text/plain": [
       "102948"
      ]
     },
     "execution_count": 45,
     "metadata": {},
     "output_type": "execute_result"
    }
   ],
   "source": [
    "len(final_list_words)"
   ]
  },
  {
   "cell_type": "code",
   "execution_count": 33,
   "id": "inclusive-instrument",
   "metadata": {},
   "outputs": [],
   "source": [
    "final_list_tags = []\n",
    "tags_list = []\n",
    "for i in train_y[\"tag\"]:\n",
    "    if(i == \"O\"):\n",
    "        final_list_tags.append(tags_list)\n",
    "        tags_list = []\n",
    "    else:\n",
    "        tags_list.append(i)"
   ]
  },
  {
   "cell_type": "code",
   "execution_count": 46,
   "id": "devoted-valley",
   "metadata": {},
   "outputs": [
    {
     "data": {
      "text/plain": [
       "102948"
      ]
     },
     "execution_count": 46,
     "metadata": {},
     "output_type": "execute_result"
    }
   ],
   "source": [
    "len(final_list_tags)"
   ]
  },
  {
   "cell_type": "code",
   "execution_count": 47,
   "id": "floral-efficiency",
   "metadata": {},
   "outputs": [],
   "source": [
    "import pickle\n",
    "with open('train_words.pkl', 'wb') as f:\n",
    "    pickle.dump(final_list_words, f)\n",
    "    \n",
    "with open('train_tags.pkl', 'wb') as f:\n",
    "    pickle.dump(final_list_tags, f)"
   ]
  },
  {
   "cell_type": "code",
   "execution_count": 38,
   "id": "dirty-vaccine",
   "metadata": {},
   "outputs": [
    {
     "name": "stdout",
     "output_type": "stream",
     "text": [
      "/Users/rishitdholakia/Desktop\r\n"
     ]
    }
   ],
   "source": [
    "!pwd"
   ]
  },
  {
   "cell_type": "code",
   "execution_count": null,
   "id": "choice-participant",
   "metadata": {},
   "outputs": [],
   "source": []
  }
 ],
 "metadata": {
  "kernelspec": {
   "display_name": "Python 3",
   "language": "python",
   "name": "python3"
  },
  "language_info": {
   "codemirror_mode": {
    "name": "ipython",
    "version": 3
   },
   "file_extension": ".py",
   "mimetype": "text/x-python",
   "name": "python",
   "nbconvert_exporter": "python",
   "pygments_lexer": "ipython3",
   "version": "3.7.6"
  }
 },
 "nbformat": 4,
 "nbformat_minor": 5
}
